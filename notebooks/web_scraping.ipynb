{
 "cells": [
  {
   "cell_type": "code",
   "execution_count": 2,
   "metadata": {},
   "outputs": [],
   "source": [
    "import pandas as pd\n",
    "import numpy as np\n",
    "import requests\n",
    "from bs4 import BeautifulSoup\n",
    "import selenium\n"
   ]
  },
  {
   "cell_type": "code",
   "execution_count": 5,
   "metadata": {},
   "outputs": [],
   "source": [
    "url = \"https://all.accor.com/ssr/app/ibis/hotels/madrid-spain/open/index.es.shtml?compositions=1&stayplus=false&snu=false&hideWDR=false&accessibleRooms=false&hideHotelDetails=false&dateIn=2025-03-01&nights=1&destination=madrid-spain\""
   ]
  },
  {
   "cell_type": "code",
   "execution_count": null,
   "metadata": {},
   "outputs": [],
   "source": [
    "response = requests.get(url)\n",
    "response.status_code\n",
    "soup = BeautifulSoup(response.text, \"html.parser\")\n",
    "headings = soup.find_all(\"h2\")\n",
    "nombre_primer_hotel = headings[0].get_text().strip().split(\"\\n\")[0]\n",
    "estrellas_primer_hotel = headings[0].get_text().strip().split(\"\\n\")[1].strip()"
   ]
  },
  {
   "cell_type": "code",
   "execution_count": 16,
   "metadata": {},
   "outputs": [],
   "source": [
    "dict_hoteles = {\n",
    "    \"nombres_hotel\": [],\n",
    "    \"estrellas_hotel\": []\n",
    "}"
   ]
  },
  {
   "cell_type": "code",
   "execution_count": 17,
   "metadata": {},
   "outputs": [
    {
     "data": {
      "text/plain": [
       "{'nombres_hotel': [], 'estrellas_hotel': []}"
      ]
     },
     "execution_count": 17,
     "metadata": {},
     "output_type": "execute_result"
    }
   ],
   "source": [
    "dict_hoteles"
   ]
  },
  {
   "cell_type": "code",
   "execution_count": 18,
   "metadata": {},
   "outputs": [],
   "source": [
    "for head in headings:\n",
    "    nombre_hotel = head.get_text().strip().split(\"\\n\")[0]\n",
    "    dict_hoteles[\"nombres_hotel\"].append(nombre_hotel)    "
   ]
  },
  {
   "cell_type": "code",
   "execution_count": 19,
   "metadata": {},
   "outputs": [],
   "source": [
    "for head in headings:\n",
    "    estrella_hotel = head.get_text().strip().split(\"\\n\")[1].strip()\n",
    "    dict_hoteles[\"estrellas_hotel\"].append(estrella_hotel)"
   ]
  },
  {
   "cell_type": "code",
   "execution_count": 24,
   "metadata": {},
   "outputs": [
    {
     "data": {
      "text/plain": [
       "{'nombres_hotel': ['ibis Styles Madrid Prado',\n",
       "  'Mercure Madrid Centro',\n",
       "  'ibis budget Madrid Centro Lavapies',\n",
       "  'ibis Styles Madrid Centro Maravillas',\n",
       "  'Novotel Madrid Center',\n",
       "  'ibis budget Madrid Calle 30',\n",
       "  'ibis Madrid Centro las Ventas',\n",
       "  'ibis budget Madrid Centro las Ventas',\n",
       "  'Novotel Madrid City Las Ventas',\n",
       "  'ibis Styles Madrid City Las Ventas'],\n",
       " 'estrellas_hotel': ['3 Estrellas',\n",
       "  '4 Estrellas',\n",
       "  '1 Estrellas',\n",
       "  '2 Estrellas',\n",
       "  '4 Estrellas',\n",
       "  '1 Estrellas',\n",
       "  '2 Estrellas',\n",
       "  '1 Estrellas',\n",
       "  '4 Estrellas',\n",
       "  '4 Estrellas']}"
      ]
     },
     "execution_count": 24,
     "metadata": {},
     "output_type": "execute_result"
    }
   ],
   "source": [
    "dict_hoteles"
   ]
  },
  {
   "cell_type": "code",
   "execution_count": 11,
   "metadata": {},
   "outputs": [],
   "source": [
    "def scrap_hoteles(url):\n",
    "    dict_hoteles = {\n",
    "        \"nombres_hotel\": [],\n",
    "        \"estrellas_hotel\": []\n",
    "    }\n",
    "    res = requests.get(url)\n",
    "    if res.status_code == 200:\n",
    "        sopa_hoteles = BeautifulSoup(res.text, \"html.parser\")\n",
    "        headings = sopa_hoteles.find_all(\"h2\")\n",
    "        for head in headings:\n",
    "            nombres_hotel = head.get_text().strip().split(\"\\n\")[0]\n",
    "            estrellas_hotel = head.get_text().strip().split(\"\\n\")[1].strip()\n",
    "            dict_hoteles[\"nombres_hotel\"].append(nombres_hotel)\n",
    "            dict_hoteles[\"estrellas_hotel\"].append(estrellas_hotel)\n",
    "    else:\n",
    "        return f\"No se ha podido encontrar la url, status code: {res.status_code}\"\n",
    "    return dict_hoteles\n"
   ]
  },
  {
   "cell_type": "code",
   "execution_count": null,
   "metadata": {},
   "outputs": [],
   "source": [
    "def scrap_hoteles(url):\n",
    "    \"\"\"\n",
    "    Función para extraer información sobre hoteles desde una URL utilizando web scraping con BeautifulSoup.\n",
    "\n",
    "    Esta función realiza una solicitud HTTP a la URL proporcionada, obtiene el contenido HTML de la página, y extrae\n",
    "    los nombres de los hoteles y sus estrellas desde los elementos `<h2>` que contienen esta información.\n",
    "    La función asume que el texto en cada `<h2>` está separado por un salto de línea (`\\n`), donde la primera parte es \n",
    "    el nombre del hotel y la segunda parte es la cantidad de estrellas del hotel.\n",
    "\n",
    "    Parámetros:\n",
    "    ----------\n",
    "    url : str\n",
    "        La URL de la página web desde la cual se desea hacer scraping.\n",
    "\n",
    "    Retorna:\n",
    "    --------\n",
    "    dict_hoteles : dict\n",
    "        Un diccionario que contiene dos claves:\n",
    "        - 'nombres_hotel': una lista con los nombres de los hoteles extraídos de la página.\n",
    "        - 'estrellas_hotel': una lista con la cantidad de estrellas de cada hotel.\n",
    "    \n",
    "    Si la solicitud HTTP falla (código de estado diferente a 200), la función retorna un mensaje de error.\n",
    "\n",
    "    Ejemplo:\n",
    "    --------\n",
    "    url = \"https://ejemplo.com/hoteles\"\n",
    "    resultado = scrap_hoteles(url)\n",
    "    \n",
    "    print(resultado)\n",
    "    # {'nombres_hotel': ['Mercure Madrid Centro', 'Hotel XYZ'], 'estrellas_hotel': ['4 Estrellas', '5 Estrellas']}\n",
    "    \"\"\"\n",
    "    dict_hoteles = {\n",
    "        \"nombres_hotel\": [],\n",
    "        \"estrellas_hotel\": []\n",
    "    }\n",
    "    \n",
    "    # Realizar solicitud HTTP\n",
    "    res = requests.get(url)\n",
    "    \n",
    "    # Verificar que la solicitud fue exitosa (código 200)\n",
    "    if res.status_code == 200:\n",
    "        sopa_hoteles = BeautifulSoup(res.text, \"html.parser\")\n",
    "        \n",
    "        # Buscar todos los elementos <h2> que contienen la información de los hoteles\n",
    "        headings = sopa_hoteles.find_all(\"h2\")\n",
    "        \n",
    "        for head in headings:\n",
    "            # Obtener el texto y eliminar espacios al principio y final\n",
    "            text = head.get_text().strip()\n",
    "            parts = text.split(\"\\n\")\n",
    "            \n",
    "            # Manejar el caso donde hay menos de dos partes\n",
    "            if len(parts) >= 2:\n",
    "                nombres_hotel = parts[0].strip()  # El nombre del hotel es la primera parte\n",
    "                estrellas_hotel = parts[1].strip()  # La cantidad de estrellas es la segunda parte\n",
    "            else:\n",
    "                nombres_hotel = parts[0].strip()  # Si solo hay el nombre del hotel\n",
    "                estrellas_hotel = \"No rating available\"  # Asignar valor por defecto para la estrella si falta\n",
    "            \n",
    "            # Añadir los datos al diccionario\n",
    "            dict_hoteles[\"nombres_hotel\"].append(nombres_hotel)\n",
    "            dict_hoteles[\"estrellas_hotel\"].append(estrellas_hotel)\n",
    "    \n",
    "    else:\n",
    "        return f\"No se ha podido encontrar la url, status code: {res.status_code}\"\n",
    "    \n",
    "    return dict_hoteles\n",
    "    "
   ]
  },
  {
   "cell_type": "code",
   "execution_count": 12,
   "metadata": {},
   "outputs": [
    {
     "data": {
      "text/plain": [
       "{'nombres_hotel': ['ibis Styles Madrid Prado',\n",
       "  'Mercure Madrid Centro',\n",
       "  'ibis budget Madrid Centro Lavapies',\n",
       "  'ibis Styles Madrid Centro Maravillas',\n",
       "  'Novotel Madrid Center',\n",
       "  'ibis budget Madrid Calle 30',\n",
       "  'ibis Madrid Centro las Ventas',\n",
       "  'ibis budget Madrid Centro las Ventas',\n",
       "  'Novotel Madrid City Las Ventas',\n",
       "  'ibis Styles Madrid City Las Ventas'],\n",
       " 'estrellas_hotel': ['3 Estrellas',\n",
       "  '4 Estrellas',\n",
       "  '1 Estrellas',\n",
       "  '2 Estrellas',\n",
       "  '4 Estrellas',\n",
       "  '1 Estrellas',\n",
       "  '2 Estrellas',\n",
       "  '1 Estrellas',\n",
       "  '4 Estrellas',\n",
       "  '4 Estrellas']}"
      ]
     },
     "execution_count": 12,
     "metadata": {},
     "output_type": "execute_result"
    }
   ],
   "source": [
    "dict_hoteles = scrap_hoteles(url)\n",
    "dict_hoteles"
   ]
  },
  {
   "cell_type": "code",
   "execution_count": 16,
   "metadata": {},
   "outputs": [
    {
     "data": {
      "text/html": [
       "<div>\n",
       "<style scoped>\n",
       "    .dataframe tbody tr th:only-of-type {\n",
       "        vertical-align: middle;\n",
       "    }\n",
       "\n",
       "    .dataframe tbody tr th {\n",
       "        vertical-align: top;\n",
       "    }\n",
       "\n",
       "    .dataframe thead th {\n",
       "        text-align: right;\n",
       "    }\n",
       "</style>\n",
       "<table border=\"1\" class=\"dataframe\">\n",
       "  <thead>\n",
       "    <tr style=\"text-align: right;\">\n",
       "      <th></th>\n",
       "      <th>nombres_hotel</th>\n",
       "      <th>estrellas_hotel</th>\n",
       "      <th>id_hotel</th>\n",
       "    </tr>\n",
       "  </thead>\n",
       "  <tbody>\n",
       "    <tr>\n",
       "      <th>0</th>\n",
       "      <td>ibis Styles Madrid Prado</td>\n",
       "      <td>3 Estrellas</td>\n",
       "      <td>0</td>\n",
       "    </tr>\n",
       "    <tr>\n",
       "      <th>1</th>\n",
       "      <td>Mercure Madrid Centro</td>\n",
       "      <td>4 Estrellas</td>\n",
       "      <td>0</td>\n",
       "    </tr>\n",
       "    <tr>\n",
       "      <th>2</th>\n",
       "      <td>ibis budget Madrid Centro Lavapies</td>\n",
       "      <td>1 Estrellas</td>\n",
       "      <td>0</td>\n",
       "    </tr>\n",
       "    <tr>\n",
       "      <th>3</th>\n",
       "      <td>ibis Styles Madrid Centro Maravillas</td>\n",
       "      <td>2 Estrellas</td>\n",
       "      <td>0</td>\n",
       "    </tr>\n",
       "    <tr>\n",
       "      <th>4</th>\n",
       "      <td>Novotel Madrid Center</td>\n",
       "      <td>4 Estrellas</td>\n",
       "      <td>0</td>\n",
       "    </tr>\n",
       "    <tr>\n",
       "      <th>5</th>\n",
       "      <td>ibis budget Madrid Calle 30</td>\n",
       "      <td>1 Estrellas</td>\n",
       "      <td>0</td>\n",
       "    </tr>\n",
       "    <tr>\n",
       "      <th>6</th>\n",
       "      <td>ibis Madrid Centro las Ventas</td>\n",
       "      <td>2 Estrellas</td>\n",
       "      <td>0</td>\n",
       "    </tr>\n",
       "    <tr>\n",
       "      <th>7</th>\n",
       "      <td>ibis budget Madrid Centro las Ventas</td>\n",
       "      <td>1 Estrellas</td>\n",
       "      <td>0</td>\n",
       "    </tr>\n",
       "    <tr>\n",
       "      <th>8</th>\n",
       "      <td>Novotel Madrid City Las Ventas</td>\n",
       "      <td>4 Estrellas</td>\n",
       "      <td>0</td>\n",
       "    </tr>\n",
       "    <tr>\n",
       "      <th>9</th>\n",
       "      <td>ibis Styles Madrid City Las Ventas</td>\n",
       "      <td>4 Estrellas</td>\n",
       "      <td>0</td>\n",
       "    </tr>\n",
       "  </tbody>\n",
       "</table>\n",
       "</div>"
      ],
      "text/plain": [
       "                          nombres_hotel estrellas_hotel  id_hotel\n",
       "0              ibis Styles Madrid Prado     3 Estrellas         0\n",
       "1                 Mercure Madrid Centro     4 Estrellas         0\n",
       "2    ibis budget Madrid Centro Lavapies     1 Estrellas         0\n",
       "3  ibis Styles Madrid Centro Maravillas     2 Estrellas         0\n",
       "4                 Novotel Madrid Center     4 Estrellas         0\n",
       "5           ibis budget Madrid Calle 30     1 Estrellas         0\n",
       "6         ibis Madrid Centro las Ventas     2 Estrellas         0\n",
       "7  ibis budget Madrid Centro las Ventas     1 Estrellas         0\n",
       "8        Novotel Madrid City Las Ventas     4 Estrellas         0\n",
       "9    ibis Styles Madrid City Las Ventas     4 Estrellas         0"
      ]
     },
     "execution_count": 16,
     "metadata": {},
     "output_type": "execute_result"
    }
   ],
   "source": [
    "df_hoteles_bs = pd.DataFrame(dict_hoteles)\n",
    "df_hoteles_bs[\"id_hotel\"] = 0\n",
    "df_hoteles_bs"
   ]
  },
  {
   "cell_type": "code",
   "execution_count": null,
   "metadata": {},
   "outputs": [],
   "source": []
  }
 ],
 "metadata": {
  "kernelspec": {
   "display_name": "venv",
   "language": "python",
   "name": "python3"
  },
  "language_info": {
   "codemirror_mode": {
    "name": "ipython",
    "version": 3
   },
   "file_extension": ".py",
   "mimetype": "text/x-python",
   "name": "python",
   "nbconvert_exporter": "python",
   "pygments_lexer": "ipython3",
   "version": "3.12.5"
  }
 },
 "nbformat": 4,
 "nbformat_minor": 2
}
